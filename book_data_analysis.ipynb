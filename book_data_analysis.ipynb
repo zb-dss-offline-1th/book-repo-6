{
 "cells": [
  {
   "cell_type": "markdown",
   "id": "6586698a",
   "metadata": {},
   "source": [
    "# Project Objective\n",
    "한국에서 출판된 프로그래밍 언어 책의 정보를 수집, 분석하여 국내 출판책 기준으로 가장 인기있는 언어 확인<br>\n",
    "\n",
    "[Task 1] <br> \n",
    "10개 언어에 대한 출판 책 정보 수집\n",
    "* Python(파이썬), C, Java, C++, C#, Visual Basic, JavaScript, SQL, PHP, R<br>\n",
    "* 수집 데이터: 책 이름, 저자, 출판사, 출판일, ISBN + (페이지수,가격)\n",
    "\n",
    "[Task 2] <br> \n",
    "수집데이터를 ISBN 정보로 unique 검사하여 중복데이터 처리<br>\n",
    "\n",
    "[Task 3] <br>\n",
    "각 언어별 출판물의 양 시각화 및 판매 순위 정리<br>\n",
    "\n",
    "[Task 4] <br>\n",
    "수집된 정보를 기반으로 우리나라의 컴퓨터 언어 관련 출판사 순위를 확인<br>\n",
    "\n",
    "[Task 5] <br>\n",
    "수집된 정보에서 출판일 기준, 최근 2년간(20년, 21년) 데이터와 그 전 3년(17년, 18년, 19년) 데이터 비교<br>\n",
    "특이사항 정리 (특정 언어 변화 감지시 강조)<br>"
   ]
  },
  {
   "cell_type": "code",
   "execution_count": 25,
   "metadata": {},
   "outputs": [
    {
     "name": "stdout",
     "output_type": "stream",
     "text": [
      "Collecting wordcloud\n",
      "  Downloading wordcloud-1.8.1.tar.gz (220 kB)\n",
      "\u001b[2K     \u001b[90m━━━━━━━━━━━━━━━━━━━━━━━━━━━━━━━━━━━━━━\u001b[0m \u001b[32m220.7/220.7 KB\u001b[0m \u001b[31m10.9 MB/s\u001b[0m eta \u001b[36m0:00:00\u001b[0m\n",
      "\u001b[?25h  Preparing metadata (setup.py) ... \u001b[?25ldone\n",
      "\u001b[?25hRequirement already satisfied: numpy>=1.6.1 in /opt/miniconda3/lib/python3.9/site-packages (from wordcloud) (1.21.2)\n",
      "Requirement already satisfied: pillow in /opt/miniconda3/lib/python3.9/site-packages (from wordcloud) (9.0.1)\n",
      "Requirement already satisfied: matplotlib in /opt/miniconda3/lib/python3.9/site-packages (from wordcloud) (3.5.1)\n",
      "Requirement already satisfied: fonttools>=4.22.0 in /opt/miniconda3/lib/python3.9/site-packages (from matplotlib->wordcloud) (4.25.0)\n",
      "Requirement already satisfied: packaging>=20.0 in /opt/miniconda3/lib/python3.9/site-packages (from matplotlib->wordcloud) (21.3)\n",
      "Requirement already satisfied: pyparsing>=2.2.1 in /opt/miniconda3/lib/python3.9/site-packages (from matplotlib->wordcloud) (3.0.4)\n",
      "Requirement already satisfied: python-dateutil>=2.7 in /opt/miniconda3/lib/python3.9/site-packages (from matplotlib->wordcloud) (2.8.2)\n",
      "Requirement already satisfied: cycler>=0.10 in /opt/miniconda3/lib/python3.9/site-packages (from matplotlib->wordcloud) (0.11.0)\n",
      "Requirement already satisfied: kiwisolver>=1.0.1 in /opt/miniconda3/lib/python3.9/site-packages (from matplotlib->wordcloud) (1.3.2)\n",
      "Requirement already satisfied: six>=1.5 in /opt/miniconda3/lib/python3.9/site-packages (from python-dateutil>=2.7->matplotlib->wordcloud) (1.16.0)\n",
      "Building wheels for collected packages: wordcloud\n",
      "  Building wheel for wordcloud (setup.py) ... \u001b[?25ldone\n",
      "\u001b[?25h  Created wheel for wordcloud: filename=wordcloud-1.8.1-cp39-cp39-macosx_10_9_x86_64.whl size=154045 sha256=8a8401c4f1621fe21b92502bde8849e7217e5ab2731bc912bb26ff3608501559\n",
      "  Stored in directory: /Users/mac/Library/Caches/pip/wheels/f9/7a/dd/06ef8b5dfe5483f6204133c08eeb16c287cc2c05e290ae2fc0\n",
      "Successfully built wordcloud\n",
      "Installing collected packages: wordcloud\n",
      "Successfully installed wordcloud-1.8.1\n",
      "Note: you may need to restart the kernel to use updated packages.\n"
     ]
    }
   ],
   "source": [
    "%pip install wordcloud"
   ]
  },
  {
   "cell_type": "code",
   "execution_count": 34,
   "metadata": {},
   "outputs": [
    {
     "name": "stdout",
     "output_type": "stream",
     "text": [
      "KOR setup completed in your MAC!!\n"
     ]
    }
   ],
   "source": [
    "import urllib.request\n",
    "from bs4 import BeautifulSoup\n",
    "import pandas as pd\n",
    "import time\n",
    "import matplotlib.pyplot as plt\n",
    "import set_matplotlib_kor\n",
    "from wordcloud import WordCloud"
   ]
  },
  {
   "cell_type": "code",
   "execution_count": 2,
   "metadata": {},
   "outputs": [],
   "source": [
    "# search keywords list\n",
    "keywords_p = ['파이선','파이썬','python']\n",
    "keywords_c = ['C++','C#','C']\n",
    "keywords_java = ['JavaScript','자바스크립트','Java','자바']\n",
    "keywords_vb = ['VisualBasic','비주얼베이직']\n",
    "keywords_else = ['SQL','R','PHP']\n",
    "search_keywords = keywords_p + keywords_c + keywords_java + keywords_vb + keywords_else"
   ]
  },
  {
   "cell_type": "code",
   "execution_count": 3,
   "metadata": {},
   "outputs": [],
   "source": [
    "# unique isbn set (dup search)\n",
    "u_isbn = set()"
   ]
  },
  {
   "cell_type": "code",
   "execution_count": 4,
   "metadata": {},
   "outputs": [],
   "source": [
    "# Naver API\n",
    "client_id = 'Dub7X0a1WdXUiR4wr7g3'\n",
    "client_secret = 'y26kuyyXPQ'"
   ]
  },
  {
   "cell_type": "code",
   "execution_count": 5,
   "metadata": {},
   "outputs": [],
   "source": [
    "# search parameters\n",
    "display = 100\n",
    "start_i = 1\n",
    "end_i = 1000\n",
    "idx = 0\n",
    "query = 'R'\n",
    "years = range(1980,2021,6)"
   ]
  },
  {
   "cell_type": "code",
   "execution_count": 6,
   "metadata": {},
   "outputs": [],
   "source": [
    "# df base\n",
    "cols = [\"lang\",\"title\",\"author\",\"publisher\",\"pubdate\",\"isbn\",\"price\",\"link\"]\n",
    "rows = []"
   ]
  },
  {
   "cell_type": "markdown",
   "metadata": {},
   "source": [
    "## Functions"
   ]
  },
  {
   "cell_type": "code",
   "execution_count": 7,
   "metadata": {},
   "outputs": [],
   "source": [
    "#generate search url\n",
    "def gen_search_url(search_text, start_num, disp_num,start_y,end_y):\n",
    "\tbase = \"https://openapi.naver.com/v1/search/book_adv.xml\"\n",
    "\tparam_query = \"?d_titl=\" + urllib.parse.quote(search_text) + \"&d_catg=280\"\n",
    "\tparam_date = \"&d_dafr=\" + start_y + \"&d_dato=\" + end_y\n",
    "\tparam_start = \"&start=\" + str(start_num)\n",
    "\tparam_disp = \"&display=\" + str(disp_num)\n",
    "\n",
    "\treturn base + param_query + param_date + param_start + param_disp"
   ]
  },
  {
   "cell_type": "code",
   "execution_count": 8,
   "metadata": {},
   "outputs": [],
   "source": [
    "# delete tags (\"<b>,</b>\") in title (search results)\n",
    "def delete_tag(input_str):\n",
    "\toutput = input_str.replace(\"<b>\",\"\")\n",
    "\toutput = output.replace(\"</b>\",\"\")\n",
    "\treturn output"
   ]
  },
  {
   "cell_type": "code",
   "execution_count": 9,
   "metadata": {},
   "outputs": [],
   "source": [
    "# check unique isbn\n",
    "def unique_isbn(isbn):\n",
    "    if isbn in u_isbn:\n",
    "        return False\n",
    "    else:\n",
    "        return True\n"
   ]
  },
  {
   "cell_type": "code",
   "execution_count": 10,
   "metadata": {},
   "outputs": [],
   "source": [
    "# select search language\n",
    "def search_lang(search):\n",
    "\n",
    "    if search in set(keywords_p):\n",
    "        key = 'Python'\n",
    "    elif search in set(keywords_vb):\n",
    "        key = 'VisualBasic'\n",
    "    elif search in set(keywords_java):\n",
    "        if len(search) > 5:\n",
    "            key = 'JavaScript'\n",
    "        else:\n",
    "            key = 'Java'\n",
    "    else:\n",
    "        key = search\n",
    "    \n",
    "    return key\n",
    "    "
   ]
  },
  {
   "cell_type": "code",
   "execution_count": 11,
   "metadata": {},
   "outputs": [],
   "source": [
    "# save search items \n",
    "def save_search(items,key):\n",
    "    temp_rows = []\n",
    "    for i in items:\n",
    "            title = delete_tag(i.find(\"title\").text)\n",
    "            author = i.find(\"author\").text\n",
    "            publisher = i.find(\"publisher\").text\n",
    "            pubdate = i.find(\"pubdate\").text\n",
    "            isbn = i.find(\"isbn\").text\n",
    "            price = i.find(\"price\").text \n",
    "            link = i.find(\"link\").text\n",
    "\n",
    "            # only save unique search\n",
    "            if unique_isbn(isbn):\n",
    "                u_isbn.add(isbn)\n",
    "                \n",
    "                temp_rows.append({\"lang\": key,\n",
    "                            \"title\": title,\n",
    "                            \"author\": author,\n",
    "                            \"publisher\": publisher,\n",
    "                            \"pubdate\": pubdate,\n",
    "                            \"isbn\": isbn,\n",
    "                            \"price\": price,\n",
    "                            \"link\":link})\n",
    "    \n",
    "    return temp_rows"
   ]
  },
  {
   "cell_type": "markdown",
   "metadata": {},
   "source": [
    "# Collect Data"
   ]
  },
  {
   "cell_type": "code",
   "execution_count": 12,
   "metadata": {},
   "outputs": [],
   "source": [
    "\n",
    "for search in search_keywords:\n",
    "    key = search_lang(search)\n",
    "    \n",
    "    # 6년 단위로 검색 - Naver API 검색 시작 위치 제한 (max 1,000)\n",
    "    for year in years: \n",
    "        start_y = str(year)+\"0101\"\n",
    "        end_y = str(year+5)+\"1231\"\n",
    "        \n",
    "        for n in range(1,1000,100):\n",
    "            \n",
    "            request = urllib.request.Request(gen_search_url(search,n,100,start_y,end_y))\n",
    "            \n",
    "            request.add_header('X-Naver-Client-Id', client_id)\n",
    "            request.add_header('X-Naver-Client-Secret', client_secret)\n",
    "            response = urllib.request.urlopen(request)\n",
    "            rescode = response.getcode()\n",
    "\n",
    "            if(rescode == 200):\n",
    "                result = response.read().decode('utf-8')\n",
    "            else:\n",
    "                print(\"error\")\n",
    "                \n",
    "            soup = BeautifulSoup(result,'html.parser')\n",
    "            items = soup.find_all('item')\n",
    "            if len(items) != 0:\n",
    "                rows.append(save_search(items,key))\n",
    "            \n",
    "            time.sleep(1)\n",
    "\n"
   ]
  },
  {
   "cell_type": "code",
   "execution_count": 13,
   "metadata": {},
   "outputs": [],
   "source": [
    "rows_all = []\n",
    "for i in range(len(rows)):\n",
    "    rows_all.extend(rows[i])"
   ]
  },
  {
   "cell_type": "code",
   "execution_count": 14,
   "metadata": {},
   "outputs": [],
   "source": [
    "books_df = pd.DataFrame(rows_all, columns=cols)"
   ]
  },
  {
   "cell_type": "code",
   "execution_count": 15,
   "metadata": {},
   "outputs": [
    {
     "name": "stdout",
     "output_type": "stream",
     "text": [
      "<class 'pandas.core.frame.DataFrame'>\n",
      "RangeIndex: 7009 entries, 0 to 7008\n",
      "Data columns (total 8 columns):\n",
      " #   Column     Non-Null Count  Dtype \n",
      "---  ------     --------------  ----- \n",
      " 0   lang       7009 non-null   object\n",
      " 1   title      7009 non-null   object\n",
      " 2   author     7009 non-null   object\n",
      " 3   publisher  7009 non-null   object\n",
      " 4   pubdate    7009 non-null   object\n",
      " 5   isbn       7009 non-null   object\n",
      " 6   price      7009 non-null   object\n",
      " 7   link       7009 non-null   object\n",
      "dtypes: object(8)\n",
      "memory usage: 438.2+ KB\n"
     ]
    }
   ],
   "source": [
    "books_df.info()"
   ]
  },
  {
   "cell_type": "code",
   "execution_count": 16,
   "metadata": {},
   "outputs": [
    {
     "data": {
      "text/plain": [
       "True"
      ]
     },
     "execution_count": 16,
     "metadata": {},
     "output_type": "execute_result"
    }
   ],
   "source": [
    "# unique isbn check\n",
    "books_df['isbn'].is_unique"
   ]
  },
  {
   "cell_type": "code",
   "execution_count": 17,
   "metadata": {},
   "outputs": [
    {
     "data": {
      "text/plain": [
       "C              1714\n",
       "C++            1025\n",
       "Java           1020\n",
       "Python          874\n",
       "VisualBasic     651\n",
       "JavaScript      456\n",
       "SQL             441\n",
       "R               372\n",
       "C#              298\n",
       "PHP             158\n",
       "Name: lang, dtype: int64"
      ]
     },
     "execution_count": 17,
     "metadata": {},
     "output_type": "execute_result"
    }
   ],
   "source": [
    "books_df['lang'].value_counts()"
   ]
  },
  {
   "cell_type": "code",
   "execution_count": 18,
   "metadata": {},
   "outputs": [],
   "source": [
    "books_df.to_csv('./books.csv',index=False,encoding='utf-8')"
   ]
  },
  {
   "cell_type": "markdown",
   "metadata": {},
   "source": [
    "# Data Visualisation"
   ]
  }
 ],
 "metadata": {
  "interpreter": {
   "hash": "3d597f4c481aa0f25dceb95d2a0067e73c0966dcbd003d741d821a7208527ecf"
  },
  "kernelspec": {
   "display_name": "Python 3.9.7 ('base')",
   "language": "python",
   "name": "python3"
  },
  "language_info": {
   "codemirror_mode": {
    "name": "ipython",
    "version": 3
   },
   "file_extension": ".py",
   "mimetype": "text/x-python",
   "name": "python",
   "nbconvert_exporter": "python",
   "pygments_lexer": "ipython3",
   "version": "3.9.7"
  },
  "orig_nbformat": 4
 },
 "nbformat": 4,
 "nbformat_minor": 2
}
